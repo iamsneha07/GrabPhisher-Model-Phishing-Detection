{
  "nbformat": 4,
  "nbformat_minor": 0,
  "metadata": {
    "colab": {
      "provenance": [],
      "mount_file_id": "1_mYfb4IFkOT8ZHKpKdARZij5QIPyyrpc",
      "authorship_tag": "ABX9TyOUw33K9bE6Pt0QcRelFgZv",
      "include_colab_link": true
    },
    "kernelspec": {
      "name": "python3",
      "display_name": "Python 3"
    },
    "language_info": {
      "name": "python"
    }
  },
  "cells": [
    {
      "cell_type": "markdown",
      "metadata": {
        "id": "view-in-github",
        "colab_type": "text"
      },
      "source": [
        "<a href=\"https://colab.research.google.com/github/iamsneha07/GrabPhisher-Model-Phishing-Detection/blob/main/GrabPhisher_model.ipynb\" target=\"_parent\"><img src=\"https://colab.research.google.com/assets/colab-badge.svg\" alt=\"Open In Colab\"/></a>"
      ]
    },
    {
      "cell_type": "code",
      "execution_count": null,
      "metadata": {
        "colab": {
          "base_uri": "https://localhost:8080/"
        },
        "id": "x0Sqz0GZKF4d",
        "outputId": "071c25e4-d027-4c20-d95c-2be8e773ceb0"
      },
      "outputs": [
        {
          "output_type": "stream",
          "name": "stdout",
          "text": [
            "Mounted at /content/drive\n"
          ]
        }
      ],
      "source": [
        "from google.colab import drive\n",
        "drive.mount('/content/drive')"
      ]
    },
    {
      "cell_type": "code",
      "source": [
        "# Set the path\n",
        "CSV_PATH = \"/content/drive/MyDrive/GrabPhisher_Model/final_data_6.csv\""
      ],
      "metadata": {
        "id": "CPYVUKkRNBfQ"
      },
      "execution_count": null,
      "outputs": []
    },
    {
      "cell_type": "code",
      "source": [
        "# Install all the essentials\n",
        "!pip install numpy==1.24.4 pandas==2.2.2 scipy==1.13.1 networkx==2.6.3 karateclub==1.3.3 --no-deps\n",
        "!pip install torch torch_geometric torch-scatter torch-sparse --quiet\n",
        "!pip install karateclub scikit-learn networkx tabulate\n",
        "!pip install node2vec\n",
        "!pip install tqdm rich"
      ],
      "metadata": {
        "id": "vsCl-1SjNVqJ",
        "collapsed": true
      },
      "execution_count": null,
      "outputs": []
    },
    {
      "cell_type": "code",
      "source": [
        "#-------------------------------------------------\n",
        "# GrabPhisher Model Code for Phishing Detection\n",
        "#-------------------------------------------------\n",
        "\n",
        "# Imports requiring packages\n",
        "import pandas as pd\n",
        "import numpy as np\n",
        "import networkx as nx\n",
        "import torch\n",
        "import torch.nn as nn\n",
        "import torch.nn.functional as F\n",
        "from torch_geometric.data import Data\n",
        "from torch_geometric.nn import GCNConv\n",
        "from node2vec import Node2Vec\n",
        "from sklearn.model_selection import train_test_split\n",
        "from tabulate import tabulate\n",
        "from rich.console import Console\n",
        "from rich.table import Table\n",
        "from rich.console import Console\n",
        "from rich import box\n",
        "from tqdm import trange\n",
        "from sklearn.metrics import confusion_matrix, classification_report\n",
        "\n",
        "console = Console()\n",
        "\n",
        "# Data Loader\n",
        "df = pd.read_csv('/content/drive/MyDrive/GrabPhisher_Model/final_data_6.csv')\n",
        "console.print(\"[bold yellow]\\U0001F517 Loading the Data...\")\n",
        "print(df.head())\n",
        "print(df.columns)\n",
        "\n",
        "import networkx as nx\n",
        "\n",
        "# Initialize directed graph\n",
        "G = nx.DiGraph()\n",
        "\n",
        "# Add nodes and edges from the dataframe\n",
        "for idx, row in df.iterrows():\n",
        "    src = row['from']\n",
        "    tgt = row['to']\n",
        "    ts = row['timestamp']\n",
        "    amt = row['amount']\n",
        "    label_src = row['fromIsPhi']\n",
        "    label_tgt = row['toIsPhi']\n",
        "\n",
        "    G.add_node(src, label=label_src)\n",
        "    G.add_node(tgt, label=label_tgt)\n",
        "    G.add_edge(src, tgt, timestamp=ts, amount=amt)\n",
        "\n",
        "# Print basic graph summary (manual replacement for nx.info)\n",
        "console.print(\"\\n\\n[bold yellow]\\u2705 Graph Summary:\")\n",
        "print(f\"Type: Directed Graph\")\n",
        "print(f\"Number of nodes: {G.number_of_nodes()}\")\n",
        "print(f\"Number of edges: {G.number_of_edges()}\")\n",
        "\n",
        "# Optionally: check a few nodes\n",
        "console.print(\"\\n\\n[bold green]\\u2705 Sample nodes with attributes:\")\n",
        "for node, attr in list(G.nodes(data=True))[:5]:\n",
        "    print(f\"{node}: {attr}\")\n",
        "\n",
        "\n",
        "G = nx.convert_node_labels_to_integers(G, label_attribute=\"original_id\")\n",
        "G = nx.relabel_nodes(G, lambda x: str(x))  # Node2Vec needs string IDs\n",
        "\n",
        "import os\n",
        "nodes = sorted(G.nodes(), key=lambda x: int(x))  # ensure correct order\n",
        "\n",
        "if os.path.exists(\"n2v_embeddings.npy\"):\n",
        "    embeddings = np.load(\"n2v_embeddings.npy\")\n",
        "    console.print(\"\\n\\n[bold yellow]\\u2705 Loaded embeddings from file:\", embeddings.shape)\n",
        "else:\n",
        "    print(\"\\nGenerating Node2Vec embeddings...\\n\")\n",
        "    node2vec = Node2Vec(G, dimensions=128, walk_length=10, num_walks=20, workers=4, seed=42)\n",
        "    n2v_model = node2vec.fit(window=5, min_count=1, batch_words=128)\n",
        "    embeddings = np.array([n2v_model.wv[node] for node in nodes])\n",
        "    np.save(\"n2v_embeddings.npy\", embeddings)\n",
        "    print(\"\\nGenerated embeddings:\\n\", embeddings.shape)\n",
        "\n",
        "x = torch.tensor(embeddings, dtype=torch.float)\n",
        "\n",
        "\n",
        "from sklearn.utils.class_weight import compute_class_weight\n",
        "\n",
        "node_mapping = {node: i for i, node in enumerate(G.nodes())}\n",
        "\n",
        "edges = [(node_mapping[src], node_mapping[tgt]) for src, tgt in G.edges()]\n",
        "edge_index = torch.tensor(edges, dtype=torch.long).t().contiguous()\n",
        "\n",
        "timestamps = [G.edges[e]['timestamp'] for e in G.edges()]\n",
        "amounts = [G.edges[e]['amount'] for e in G.edges()]\n",
        "edge_attr = torch.tensor(np.vstack([timestamps, amounts]).T, dtype=torch.float)\n",
        "\n",
        "# Example: replace with your own node embeddings\n",
        "embeddings = np.random.rand(len(G.nodes()), 128)  # Replace with actual node features\n",
        "x = torch.tensor(embeddings, dtype=torch.float)\n",
        "\n",
        "labels = [G.nodes[node]['label'] for node in G.nodes()]\n",
        "y = torch.tensor(labels, dtype=torch.long)\n",
        "\n",
        "data = Data(x=x, edge_index=edge_index, edge_attr=edge_attr, y=y)\n",
        "\n",
        "# Print summary\n",
        "print(data)\n",
        "\n",
        "train_idx, test_idx = train_test_split(\n",
        "    np.arange(y.shape[0]), test_size=0.2, stratify=y, random_state=42\n",
        ")\n",
        "\n",
        "train_mask = torch.zeros(y.shape[0], dtype=torch.bool)\n",
        "test_mask = torch.zeros(y.shape[0], dtype=torch.bool)\n",
        "train_mask[train_idx] = True\n",
        "test_mask[test_idx] = True\n",
        "\n",
        "data.train_mask = train_mask\n",
        "data.test_mask = test_mask\n",
        "\n",
        "\n",
        "\n",
        "class SimpleGCN(nn.Module):\n",
        "    def __init__(self, in_channels, hidden1, hidden2, out_channels):\n",
        "        super(SimpleGCN, self).__init__()\n",
        "        self.conv1 = GCNConv(in_channels, hidden1)\n",
        "        self.conv2 = GCNConv(hidden1, hidden2)\n",
        "        self.conv3 = GCNConv(hidden2, out_channels)\n",
        "\n",
        "    def forward(self, data):\n",
        "        x, edge_index = data.x, data.edge_index\n",
        "        x = self.conv1(x, edge_index)\n",
        "        x = F.relu(x)\n",
        "        x = F.dropout(x, p=0.5, training=self.training)\n",
        "        x = self.conv2(x, edge_index)\n",
        "        x = F.relu(x)\n",
        "        x = F.dropout(x, p=0.5, training=self.training)\n",
        "        x = self.conv3(x, edge_index)\n",
        "        return F.log_softmax(x, dim=1)\n",
        "\n",
        "\n",
        "\n",
        "\n",
        "device = torch.device('cuda' if torch.cuda.is_available() else 'cpu')\n",
        "model = SimpleGCN(x.shape[1], 64, 32, 2).to(device)  # reduced dims\n",
        "data = data.to(device)\n",
        "optimizer = torch.optim.Adam(model.parameters(), lr=0.01, weight_decay=5e-4)\n",
        "\n",
        "\n",
        "# -----------------------\n",
        "# TRAINING\n",
        "# -----------------------\n",
        "def train():\n",
        "    model.train()\n",
        "    optimizer.zero_grad()\n",
        "    out = model(data)\n",
        "\n",
        "    labels_np = data.y[data.train_mask].cpu().numpy()\n",
        "    class_sample_count = np.bincount(labels_np)\n",
        "    from sklearn.utils.class_weight import compute_class_weight\n",
        "\n",
        "    # Compute class weights once outside the training loop\n",
        "    labels_np = data.y[data.train_mask].cpu().numpy()\n",
        "    class_weights = compute_class_weight(class_weight='balanced', classes=np.unique(labels_np), y=labels_np)\n",
        "    weights = torch.tensor(class_weights, dtype=torch.float32).to(device)\n",
        "\n",
        "\n",
        "\n",
        "    loss = F.nll_loss(out[data.train_mask], data.y[data.train_mask], weight=weights)\n",
        "    loss.backward()\n",
        "    optimizer.step()\n",
        "    return loss.item()\n",
        "\n",
        "\n",
        "# -----------------------\n",
        "# TESTING\n",
        "# -----------------------\n",
        "def test():\n",
        "    model.eval()\n",
        "    out = model(data)\n",
        "    pred = out.argmax(dim=1)\n",
        "    return pred\n",
        "\n",
        "\n",
        "\n",
        "for epoch in trange(1, 51, desc=\"Training Epochs\"):\n",
        "    loss = train()\n",
        "    if epoch % 5 == 0:\n",
        "        console.log(f\"[bold cyan]Epoch {epoch}[/] - Loss: {loss:.4f}\")\n",
        "\n",
        "pred = test()\n",
        "\n",
        "\n",
        "\n",
        "\n",
        "# True labels and predictions\n",
        "true = data.y[data.test_mask].cpu().numpy()\n",
        "predicted = pred[data.test_mask].cpu().numpy()\n",
        "\n",
        "# Confusion matrix\n",
        "\n",
        "cm = confusion_matrix(true, predicted)\n",
        "labels = ['Normal', 'Phishing']\n",
        "report_dict = classification_report(true, predicted, target_names=labels, output_dict=True)\n",
        "report_str = classification_report(true, predicted, target_names=labels, digits=4)\n",
        "\n",
        "# Pretty Confusion Matrix\n",
        "conf_table = Table(title=\"\\nConfusion Matrix\", show_lines=True)\n",
        "conf_table.add_column(\"\", style=\"bold magenta\")\n",
        "conf_table.add_column(\"Predicted: Normal\", justify=\"center\")\n",
        "conf_table.add_column(\"Predicted: Phishing\", justify=\"center\")\n",
        "conf_table.add_row(\"Actual: Normal\", str(cm[0][0]), str(cm[0][1]))\n",
        "conf_table.add_row(\"Actual: Phishing\", str(cm[1][0]), str(cm[1][1]))\n",
        "console.print(conf_table)\n",
        "\n",
        "# Pretty Classification Report\n",
        "class_report_table = Table(title=\"\\nClassification Report\", show_lines=True)\n",
        "class_report_table.add_column(\"Class\", justify=\"left\", style=\"bold green\")\n",
        "class_report_table.add_column(\"Precision\")\n",
        "class_report_table.add_column(\"Recall\")\n",
        "class_report_table.add_column(\"F1-Score\")\n",
        "class_report_table.add_column(\"Support\")\n",
        "\n",
        "for label in labels:\n",
        "    metrics = report_dict[label]\n",
        "    class_report_table.add_row(label,\n",
        "        f\"{metrics['precision']:.4f}\",\n",
        "        f\"{metrics['recall']:.4f}\",\n",
        "        f\"{metrics['f1-score']:.4f}\",\n",
        "        f\"{int(metrics['support'])}\")\n",
        "\n",
        "# Add accuracy, macro avg, and weighted avg\n",
        "for avg in [\"accuracy\", \"macro avg\", \"weighted avg\"]:\n",
        "    if avg == \"accuracy\":\n",
        "        class_report_table.add_row(avg, \"-\", \"-\", f\"{report_dict[avg]:.4f}\", f\"{sum(cm[0]) + sum(cm[1])}\")\n",
        "    else:\n",
        "        avg_data = report_dict[avg]\n",
        "        class_report_table.add_row(avg,\n",
        "            f\"{avg_data['precision']:.4f}\",\n",
        "            f\"{avg_data['recall']:.4f}\",\n",
        "            f\"{avg_data['f1-score']:.4f}\",\n",
        "            f\"{int(avg_data['support'])}\")\n",
        "\n",
        "console.print(class_report_table)\n",
        "\n",
        "# ---------------- Custom Summary ------------------\n",
        "total_test = len(true)\n",
        "total_normal = sum(true == 0)\n",
        "total_phishing = sum(true == 1)\n",
        "normal_correct = cm[0][0]\n",
        "phishing_correct = cm[1][1]\n",
        "\n",
        "console.print(\"\\n\\n[bold green]\\u2705 Test Summary:\")\n",
        "console.print(f\"Total nodes in test data: {total_test}\")\n",
        "console.print(f\"Total NORMAL nodes (true): {total_normal}\")\n",
        "console.print(f\"Total PHISHING nodes (true): {total_phishing}\")\n",
        "console.print(f\"Normal correctly classified: {normal_correct} / {total_normal} = {100*normal_correct/total_normal:.2f}%\")\n",
        "console.print(f\"Phishing correctly classified: {phishing_correct} / {total_phishing} = {100*phishing_correct/total_phishing:.2f}%\")\n",
        "\n",
        "# ---------------- Performance Comparison Table ------------------\n",
        "\n",
        "grab_precision = f\"{report_dict['Phishing']['precision']:.2f}\"\n",
        "grab_recall = f\"{report_dict['Phishing']['recall']:.2f}\"\n",
        "grab_f1 = f\"{report_dict['Phishing']['f1-score']:.2f}\"\n",
        "\n",
        "comparison_data = [\n",
        "    [\"Method\", \"Precision\", \"Recall\", \"F1-Score\"],\n",
        "    [\"Node2vec\", \"0.62\", \"0.65\", \"0.63\"],\n",
        "    [\"WL-kernel\", \"0.63\", \"0.67\", \"0.65\"],\n",
        "    [\"GCN\", \"0.52\", \"0.55\", \"0.53\"],\n",
        "    [\"Graph2vec\", \"0.70\", \"0.75\", \"0.73\"],\n",
        "    [\"TGAT\", \"0.30\", \"0.40\", \"0.35\"],\n",
        "    [\"TGN\", \"0.55\", \"0.60\", \"0.57\"],\n",
        "    [\"EvolveGCN\", \"0.68\", \"0.70\", \"0.69\"],\n",
        "    [\"GrabPhisher\", grab_precision, grab_recall, grab_f1]\n",
        "]\n",
        "\n",
        "console.print(\"\\n\\n[bold yellow]\\U0001F517 Performance Comparison Table:\")\n",
        "console.print(tabulate(comparison_data, headers=\"firstrow\", tablefmt=\"fancy_grid\"))"
      ],
      "metadata": {
        "id": "FQB0nmObgkVr",
        "colab": {
          "base_uri": "https://localhost:8080/",
          "height": 1000
        },
        "outputId": "c1ddf790-1519-4ddc-bbd4-8ca859df42b3"
      },
      "execution_count": null,
      "outputs": [
        {
          "output_type": "display_data",
          "data": {
            "text/plain": [
              "\u001b[1;33m🔗 Loading the Data\u001b[0m\u001b[1;33m...\u001b[0m\n"
            ],
            "text/html": [
              "<pre style=\"white-space:pre;overflow-x:auto;line-height:normal;font-family:Menlo,'DejaVu Sans Mono',consolas,'Courier New',monospace\"><span style=\"color: #808000; text-decoration-color: #808000; font-weight: bold\">🔗 Loading the Data...</span>\n",
              "</pre>\n"
            ]
          },
          "metadata": {}
        },
        {
          "output_type": "stream",
          "name": "stdout",
          "text": [
            "   Unnamed: 0                                        from  \\\n",
            "0    10159229  0x219c5355f7496c47e743f5a6d98527509ea42444   \n",
            "1    10010990  0x21a1662d90d163f79f9e71fda42c60926e80699c   \n",
            "2    10159517  0xcbe64fb9fdee1eb4172d2bc375c12ace497ac253   \n",
            "3    13323550  0x007077061537f25eaf485a1e6fa4af64e883be98   \n",
            "4    13323549  0x7a44dbe0d1823cd177a9b4c35899046190811fb3   \n",
            "\n",
            "                                           to  amount     timestamp  \\\n",
            "0  0xaaaf91d9b90df800df4f55c205fd6989c977e73a     0.0  1.494145e+09   \n",
            "1  0xaaaf91d9b90df800df4f55c205fd6989c977e73a     0.0  1.494196e+09   \n",
            "2  0xaaaf91d9b90df800df4f55c205fd6989c977e73a     0.0  1.494145e+09   \n",
            "3  0xf0f8b0b8dbb1124261fc8d778e2287e3fd2cf4f5     0.0  1.494185e+09   \n",
            "4  0xf0f8b0b8dbb1124261fc8d778e2287e3fd2cf4f5     0.0  1.494184e+09   \n",
            "\n",
            "   fromIsPhi  toIsPhi                 date  Unnamed: 0.1  \n",
            "0          0        0  2017-05-07 00:00:00           NaN  \n",
            "1          0        0  2017-05-07 00:00:00           NaN  \n",
            "2          0        0  2017-05-07 00:00:00           NaN  \n",
            "3          0        0  2017-05-07 00:00:00           NaN  \n",
            "4          0        0  2017-05-07 00:00:00           NaN  \n",
            "Index(['Unnamed: 0', 'from', 'to', 'amount', 'timestamp', 'fromIsPhi',\n",
            "       'toIsPhi', 'date', 'Unnamed: 0.1'],\n",
            "      dtype='object')\n"
          ]
        },
        {
          "output_type": "display_data",
          "data": {
            "text/plain": [
              "\n",
              "\n",
              "\u001b[1;33m✅ Graph Summary:\u001b[0m\n"
            ],
            "text/html": [
              "<pre style=\"white-space:pre;overflow-x:auto;line-height:normal;font-family:Menlo,'DejaVu Sans Mono',consolas,'Courier New',monospace\">\n",
              "\n",
              "<span style=\"color: #808000; text-decoration-color: #808000; font-weight: bold\">✅ Graph Summary:</span>\n",
              "</pre>\n"
            ]
          },
          "metadata": {}
        },
        {
          "output_type": "stream",
          "name": "stdout",
          "text": [
            "Type: Directed Graph\n",
            "Number of nodes: 47960\n",
            "Number of edges: 57905\n"
          ]
        },
        {
          "output_type": "display_data",
          "data": {
            "text/plain": [
              "\n",
              "\n",
              "\u001b[1;32m✅ Sample nodes with attributes:\u001b[0m\n"
            ],
            "text/html": [
              "<pre style=\"white-space:pre;overflow-x:auto;line-height:normal;font-family:Menlo,'DejaVu Sans Mono',consolas,'Courier New',monospace\">\n",
              "\n",
              "<span style=\"color: #008000; text-decoration-color: #008000; font-weight: bold\">✅ Sample nodes with attributes:</span>\n",
              "</pre>\n"
            ]
          },
          "metadata": {}
        },
        {
          "output_type": "stream",
          "name": "stdout",
          "text": [
            "0x219c5355f7496c47e743f5a6d98527509ea42444: {'label': 0}\n",
            "0xaaaf91d9b90df800df4f55c205fd6989c977e73a: {'label': 0}\n",
            "0x21a1662d90d163f79f9e71fda42c60926e80699c: {'label': 0}\n",
            "0xcbe64fb9fdee1eb4172d2bc375c12ace497ac253: {'label': 0}\n",
            "0x007077061537f25eaf485a1e6fa4af64e883be98: {'label': 0}\n"
          ]
        },
        {
          "output_type": "display_data",
          "data": {
            "text/plain": [
              "\n",
              "\n",
              "\u001b[1;33m✅ Loaded embeddings from file:\u001b[0m\n",
              "\u001b[1m(\u001b[0m\u001b[1;36m47960\u001b[0m, \u001b[1;36m128\u001b[0m\u001b[1m)\u001b[0m\n"
            ],
            "text/html": [
              "<pre style=\"white-space:pre;overflow-x:auto;line-height:normal;font-family:Menlo,'DejaVu Sans Mono',consolas,'Courier New',monospace\">\n",
              "\n",
              "<span style=\"color: #808000; text-decoration-color: #808000; font-weight: bold\">✅ Loaded embeddings from file:</span>\n",
              "<span style=\"font-weight: bold\">(</span><span style=\"color: #008080; text-decoration-color: #008080; font-weight: bold\">47960</span>, <span style=\"color: #008080; text-decoration-color: #008080; font-weight: bold\">128</span><span style=\"font-weight: bold\">)</span>\n",
              "</pre>\n"
            ]
          },
          "metadata": {}
        },
        {
          "output_type": "stream",
          "name": "stdout",
          "text": [
            "Data(x=[47960, 128], edge_index=[2, 57905], edge_attr=[57905, 2], y=[47960])\n"
          ]
        },
        {
          "output_type": "stream",
          "name": "stderr",
          "text": [
            "Training Epochs:   8%|▊         | 4/50 [00:00<00:09,  5.04it/s]"
          ]
        },
        {
          "output_type": "display_data",
          "data": {
            "text/plain": [
              "\u001b[2;36m[17:46:01]\u001b[0m\u001b[2;36m \u001b[0m\u001b[1;36mEpoch \u001b[0m\u001b[1;36m5\u001b[0m - Loss: \u001b[1;36m0.7451\u001b[0m                                                \u001b]8;id=843298;file:///tmp/ipython-input-34-3564316065.py\u001b\\\u001b[2mipython-input-34-3564316065.py\u001b[0m\u001b]8;;\u001b\\\u001b[2m:\u001b[0m\u001b]8;id=120764;file:///tmp/ipython-input-34-3564316065.py#185\u001b\\\u001b[2m185\u001b[0m\u001b]8;;\u001b\\\n"
            ],
            "text/html": [
              "<pre style=\"white-space:pre;overflow-x:auto;line-height:normal;font-family:Menlo,'DejaVu Sans Mono',consolas,'Courier New',monospace\"><span style=\"color: #7fbfbf; text-decoration-color: #7fbfbf\">[17:46:01] </span><span style=\"color: #008080; text-decoration-color: #008080; font-weight: bold\">Epoch </span><span style=\"color: #008080; text-decoration-color: #008080; font-weight: bold\">5</span> - Loss: <span style=\"color: #008080; text-decoration-color: #008080; font-weight: bold\">0.7451</span>                                                <a href=\"file:///tmp/ipython-input-34-3564316065.py\" target=\"_blank\"><span style=\"color: #7f7f7f; text-decoration-color: #7f7f7f\">ipython-input-34-3564316065.py</span></a><span style=\"color: #7f7f7f; text-decoration-color: #7f7f7f\">:</span><a href=\"file:///tmp/ipython-input-34-3564316065.py#185\" target=\"_blank\"><span style=\"color: #7f7f7f; text-decoration-color: #7f7f7f\">185</span></a>\n",
              "</pre>\n"
            ]
          },
          "metadata": {}
        },
        {
          "output_type": "stream",
          "name": "stderr",
          "text": [
            "Training Epochs:  18%|█▊        | 9/50 [00:01<00:08,  5.00it/s]"
          ]
        },
        {
          "output_type": "display_data",
          "data": {
            "text/plain": [
              "\u001b[2;36m[17:46:02]\u001b[0m\u001b[2;36m \u001b[0m\u001b[1;36mEpoch \u001b[0m\u001b[1;36m10\u001b[0m - Loss: \u001b[1;36m0.6168\u001b[0m                                               \u001b]8;id=236574;file:///tmp/ipython-input-34-3564316065.py\u001b\\\u001b[2mipython-input-34-3564316065.py\u001b[0m\u001b]8;;\u001b\\\u001b[2m:\u001b[0m\u001b]8;id=901922;file:///tmp/ipython-input-34-3564316065.py#185\u001b\\\u001b[2m185\u001b[0m\u001b]8;;\u001b\\\n"
            ],
            "text/html": [
              "<pre style=\"white-space:pre;overflow-x:auto;line-height:normal;font-family:Menlo,'DejaVu Sans Mono',consolas,'Courier New',monospace\"><span style=\"color: #7fbfbf; text-decoration-color: #7fbfbf\">[17:46:02] </span><span style=\"color: #008080; text-decoration-color: #008080; font-weight: bold\">Epoch </span><span style=\"color: #008080; text-decoration-color: #008080; font-weight: bold\">10</span> - Loss: <span style=\"color: #008080; text-decoration-color: #008080; font-weight: bold\">0.6168</span>                                               <a href=\"file:///tmp/ipython-input-34-3564316065.py\" target=\"_blank\"><span style=\"color: #7f7f7f; text-decoration-color: #7f7f7f\">ipython-input-34-3564316065.py</span></a><span style=\"color: #7f7f7f; text-decoration-color: #7f7f7f\">:</span><a href=\"file:///tmp/ipython-input-34-3564316065.py#185\" target=\"_blank\"><span style=\"color: #7f7f7f; text-decoration-color: #7f7f7f\">185</span></a>\n",
              "</pre>\n"
            ]
          },
          "metadata": {}
        },
        {
          "output_type": "stream",
          "name": "stderr",
          "text": [
            "Training Epochs:  28%|██▊       | 14/50 [00:02<00:07,  5.07it/s]"
          ]
        },
        {
          "output_type": "display_data",
          "data": {
            "text/plain": [
              "\u001b[2;36m[17:46:03]\u001b[0m\u001b[2;36m \u001b[0m\u001b[1;36mEpoch \u001b[0m\u001b[1;36m15\u001b[0m - Loss: \u001b[1;36m0.5733\u001b[0m                                               \u001b]8;id=886827;file:///tmp/ipython-input-34-3564316065.py\u001b\\\u001b[2mipython-input-34-3564316065.py\u001b[0m\u001b]8;;\u001b\\\u001b[2m:\u001b[0m\u001b]8;id=843671;file:///tmp/ipython-input-34-3564316065.py#185\u001b\\\u001b[2m185\u001b[0m\u001b]8;;\u001b\\\n"
            ],
            "text/html": [
              "<pre style=\"white-space:pre;overflow-x:auto;line-height:normal;font-family:Menlo,'DejaVu Sans Mono',consolas,'Courier New',monospace\"><span style=\"color: #7fbfbf; text-decoration-color: #7fbfbf\">[17:46:03] </span><span style=\"color: #008080; text-decoration-color: #008080; font-weight: bold\">Epoch </span><span style=\"color: #008080; text-decoration-color: #008080; font-weight: bold\">15</span> - Loss: <span style=\"color: #008080; text-decoration-color: #008080; font-weight: bold\">0.5733</span>                                               <a href=\"file:///tmp/ipython-input-34-3564316065.py\" target=\"_blank\"><span style=\"color: #7f7f7f; text-decoration-color: #7f7f7f\">ipython-input-34-3564316065.py</span></a><span style=\"color: #7f7f7f; text-decoration-color: #7f7f7f\">:</span><a href=\"file:///tmp/ipython-input-34-3564316065.py#185\" target=\"_blank\"><span style=\"color: #7f7f7f; text-decoration-color: #7f7f7f\">185</span></a>\n",
              "</pre>\n"
            ]
          },
          "metadata": {}
        },
        {
          "output_type": "stream",
          "name": "stderr",
          "text": [
            "Training Epochs:  38%|███▊      | 19/50 [00:03<00:06,  5.10it/s]"
          ]
        },
        {
          "output_type": "display_data",
          "data": {
            "text/plain": [
              "\u001b[2;36m[17:46:04]\u001b[0m\u001b[2;36m \u001b[0m\u001b[1;36mEpoch \u001b[0m\u001b[1;36m20\u001b[0m - Loss: \u001b[1;36m0.5563\u001b[0m                                               \u001b]8;id=413741;file:///tmp/ipython-input-34-3564316065.py\u001b\\\u001b[2mipython-input-34-3564316065.py\u001b[0m\u001b]8;;\u001b\\\u001b[2m:\u001b[0m\u001b]8;id=14594;file:///tmp/ipython-input-34-3564316065.py#185\u001b\\\u001b[2m185\u001b[0m\u001b]8;;\u001b\\\n"
            ],
            "text/html": [
              "<pre style=\"white-space:pre;overflow-x:auto;line-height:normal;font-family:Menlo,'DejaVu Sans Mono',consolas,'Courier New',monospace\"><span style=\"color: #7fbfbf; text-decoration-color: #7fbfbf\">[17:46:04] </span><span style=\"color: #008080; text-decoration-color: #008080; font-weight: bold\">Epoch </span><span style=\"color: #008080; text-decoration-color: #008080; font-weight: bold\">20</span> - Loss: <span style=\"color: #008080; text-decoration-color: #008080; font-weight: bold\">0.5563</span>                                               <a href=\"file:///tmp/ipython-input-34-3564316065.py\" target=\"_blank\"><span style=\"color: #7f7f7f; text-decoration-color: #7f7f7f\">ipython-input-34-3564316065.py</span></a><span style=\"color: #7f7f7f; text-decoration-color: #7f7f7f\">:</span><a href=\"file:///tmp/ipython-input-34-3564316065.py#185\" target=\"_blank\"><span style=\"color: #7f7f7f; text-decoration-color: #7f7f7f\">185</span></a>\n",
              "</pre>\n"
            ]
          },
          "metadata": {}
        },
        {
          "output_type": "stream",
          "name": "stderr",
          "text": [
            "Training Epochs:  48%|████▊     | 24/50 [00:04<00:05,  4.97it/s]"
          ]
        },
        {
          "output_type": "display_data",
          "data": {
            "text/plain": [
              "\u001b[2;36m[17:46:05]\u001b[0m\u001b[2;36m \u001b[0m\u001b[1;36mEpoch \u001b[0m\u001b[1;36m25\u001b[0m - Loss: \u001b[1;36m0.5426\u001b[0m                                               \u001b]8;id=386490;file:///tmp/ipython-input-34-3564316065.py\u001b\\\u001b[2mipython-input-34-3564316065.py\u001b[0m\u001b]8;;\u001b\\\u001b[2m:\u001b[0m\u001b]8;id=705511;file:///tmp/ipython-input-34-3564316065.py#185\u001b\\\u001b[2m185\u001b[0m\u001b]8;;\u001b\\\n"
            ],
            "text/html": [
              "<pre style=\"white-space:pre;overflow-x:auto;line-height:normal;font-family:Menlo,'DejaVu Sans Mono',consolas,'Courier New',monospace\"><span style=\"color: #7fbfbf; text-decoration-color: #7fbfbf\">[17:46:05] </span><span style=\"color: #008080; text-decoration-color: #008080; font-weight: bold\">Epoch </span><span style=\"color: #008080; text-decoration-color: #008080; font-weight: bold\">25</span> - Loss: <span style=\"color: #008080; text-decoration-color: #008080; font-weight: bold\">0.5426</span>                                               <a href=\"file:///tmp/ipython-input-34-3564316065.py\" target=\"_blank\"><span style=\"color: #7f7f7f; text-decoration-color: #7f7f7f\">ipython-input-34-3564316065.py</span></a><span style=\"color: #7f7f7f; text-decoration-color: #7f7f7f\">:</span><a href=\"file:///tmp/ipython-input-34-3564316065.py#185\" target=\"_blank\"><span style=\"color: #7f7f7f; text-decoration-color: #7f7f7f\">185</span></a>\n",
              "</pre>\n"
            ]
          },
          "metadata": {}
        },
        {
          "output_type": "stream",
          "name": "stderr",
          "text": [
            "Training Epochs:  58%|█████▊    | 29/50 [00:06<00:05,  3.93it/s]"
          ]
        },
        {
          "output_type": "display_data",
          "data": {
            "text/plain": [
              "\u001b[2;36m[17:46:06]\u001b[0m\u001b[2;36m \u001b[0m\u001b[1;36mEpoch \u001b[0m\u001b[1;36m30\u001b[0m - Loss: \u001b[1;36m0.5275\u001b[0m                                               \u001b]8;id=399534;file:///tmp/ipython-input-34-3564316065.py\u001b\\\u001b[2mipython-input-34-3564316065.py\u001b[0m\u001b]8;;\u001b\\\u001b[2m:\u001b[0m\u001b]8;id=862367;file:///tmp/ipython-input-34-3564316065.py#185\u001b\\\u001b[2m185\u001b[0m\u001b]8;;\u001b\\\n"
            ],
            "text/html": [
              "<pre style=\"white-space:pre;overflow-x:auto;line-height:normal;font-family:Menlo,'DejaVu Sans Mono',consolas,'Courier New',monospace\"><span style=\"color: #7fbfbf; text-decoration-color: #7fbfbf\">[17:46:06] </span><span style=\"color: #008080; text-decoration-color: #008080; font-weight: bold\">Epoch </span><span style=\"color: #008080; text-decoration-color: #008080; font-weight: bold\">30</span> - Loss: <span style=\"color: #008080; text-decoration-color: #008080; font-weight: bold\">0.5275</span>                                               <a href=\"file:///tmp/ipython-input-34-3564316065.py\" target=\"_blank\"><span style=\"color: #7f7f7f; text-decoration-color: #7f7f7f\">ipython-input-34-3564316065.py</span></a><span style=\"color: #7f7f7f; text-decoration-color: #7f7f7f\">:</span><a href=\"file:///tmp/ipython-input-34-3564316065.py#185\" target=\"_blank\"><span style=\"color: #7f7f7f; text-decoration-color: #7f7f7f\">185</span></a>\n",
              "</pre>\n"
            ]
          },
          "metadata": {}
        },
        {
          "output_type": "stream",
          "name": "stderr",
          "text": [
            "Training Epochs:  68%|██████▊   | 34/50 [00:07<00:04,  3.84it/s]"
          ]
        },
        {
          "output_type": "display_data",
          "data": {
            "text/plain": [
              "\u001b[2;36m[17:46:08]\u001b[0m\u001b[2;36m \u001b[0m\u001b[1;36mEpoch \u001b[0m\u001b[1;36m35\u001b[0m - Loss: \u001b[1;36m0.5294\u001b[0m                                               \u001b]8;id=707617;file:///tmp/ipython-input-34-3564316065.py\u001b\\\u001b[2mipython-input-34-3564316065.py\u001b[0m\u001b]8;;\u001b\\\u001b[2m:\u001b[0m\u001b]8;id=245180;file:///tmp/ipython-input-34-3564316065.py#185\u001b\\\u001b[2m185\u001b[0m\u001b]8;;\u001b\\\n"
            ],
            "text/html": [
              "<pre style=\"white-space:pre;overflow-x:auto;line-height:normal;font-family:Menlo,'DejaVu Sans Mono',consolas,'Courier New',monospace\"><span style=\"color: #7fbfbf; text-decoration-color: #7fbfbf\">[17:46:08] </span><span style=\"color: #008080; text-decoration-color: #008080; font-weight: bold\">Epoch </span><span style=\"color: #008080; text-decoration-color: #008080; font-weight: bold\">35</span> - Loss: <span style=\"color: #008080; text-decoration-color: #008080; font-weight: bold\">0.5294</span>                                               <a href=\"file:///tmp/ipython-input-34-3564316065.py\" target=\"_blank\"><span style=\"color: #7f7f7f; text-decoration-color: #7f7f7f\">ipython-input-34-3564316065.py</span></a><span style=\"color: #7f7f7f; text-decoration-color: #7f7f7f\">:</span><a href=\"file:///tmp/ipython-input-34-3564316065.py#185\" target=\"_blank\"><span style=\"color: #7f7f7f; text-decoration-color: #7f7f7f\">185</span></a>\n",
              "</pre>\n"
            ]
          },
          "metadata": {}
        },
        {
          "output_type": "stream",
          "name": "stderr",
          "text": [
            "Training Epochs:  78%|███████▊  | 39/50 [00:08<00:02,  3.80it/s]"
          ]
        },
        {
          "output_type": "display_data",
          "data": {
            "text/plain": [
              "\u001b[2;36m[17:46:09]\u001b[0m\u001b[2;36m \u001b[0m\u001b[1;36mEpoch \u001b[0m\u001b[1;36m40\u001b[0m - Loss: \u001b[1;36m0.5113\u001b[0m                                               \u001b]8;id=988984;file:///tmp/ipython-input-34-3564316065.py\u001b\\\u001b[2mipython-input-34-3564316065.py\u001b[0m\u001b]8;;\u001b\\\u001b[2m:\u001b[0m\u001b]8;id=588678;file:///tmp/ipython-input-34-3564316065.py#185\u001b\\\u001b[2m185\u001b[0m\u001b]8;;\u001b\\\n"
            ],
            "text/html": [
              "<pre style=\"white-space:pre;overflow-x:auto;line-height:normal;font-family:Menlo,'DejaVu Sans Mono',consolas,'Courier New',monospace\"><span style=\"color: #7fbfbf; text-decoration-color: #7fbfbf\">[17:46:09] </span><span style=\"color: #008080; text-decoration-color: #008080; font-weight: bold\">Epoch </span><span style=\"color: #008080; text-decoration-color: #008080; font-weight: bold\">40</span> - Loss: <span style=\"color: #008080; text-decoration-color: #008080; font-weight: bold\">0.5113</span>                                               <a href=\"file:///tmp/ipython-input-34-3564316065.py\" target=\"_blank\"><span style=\"color: #7f7f7f; text-decoration-color: #7f7f7f\">ipython-input-34-3564316065.py</span></a><span style=\"color: #7f7f7f; text-decoration-color: #7f7f7f\">:</span><a href=\"file:///tmp/ipython-input-34-3564316065.py#185\" target=\"_blank\"><span style=\"color: #7f7f7f; text-decoration-color: #7f7f7f\">185</span></a>\n",
              "</pre>\n"
            ]
          },
          "metadata": {}
        },
        {
          "output_type": "stream",
          "name": "stderr",
          "text": [
            "Training Epochs:  88%|████████▊ | 44/50 [00:09<00:01,  4.71it/s]"
          ]
        },
        {
          "output_type": "display_data",
          "data": {
            "text/plain": [
              "\u001b[2;36m[17:46:10]\u001b[0m\u001b[2;36m \u001b[0m\u001b[1;36mEpoch \u001b[0m\u001b[1;36m45\u001b[0m - Loss: \u001b[1;36m0.4948\u001b[0m                                               \u001b]8;id=679112;file:///tmp/ipython-input-34-3564316065.py\u001b\\\u001b[2mipython-input-34-3564316065.py\u001b[0m\u001b]8;;\u001b\\\u001b[2m:\u001b[0m\u001b]8;id=66287;file:///tmp/ipython-input-34-3564316065.py#185\u001b\\\u001b[2m185\u001b[0m\u001b]8;;\u001b\\\n"
            ],
            "text/html": [
              "<pre style=\"white-space:pre;overflow-x:auto;line-height:normal;font-family:Menlo,'DejaVu Sans Mono',consolas,'Courier New',monospace\"><span style=\"color: #7fbfbf; text-decoration-color: #7fbfbf\">[17:46:10] </span><span style=\"color: #008080; text-decoration-color: #008080; font-weight: bold\">Epoch </span><span style=\"color: #008080; text-decoration-color: #008080; font-weight: bold\">45</span> - Loss: <span style=\"color: #008080; text-decoration-color: #008080; font-weight: bold\">0.4948</span>                                               <a href=\"file:///tmp/ipython-input-34-3564316065.py\" target=\"_blank\"><span style=\"color: #7f7f7f; text-decoration-color: #7f7f7f\">ipython-input-34-3564316065.py</span></a><span style=\"color: #7f7f7f; text-decoration-color: #7f7f7f\">:</span><a href=\"file:///tmp/ipython-input-34-3564316065.py#185\" target=\"_blank\"><span style=\"color: #7f7f7f; text-decoration-color: #7f7f7f\">185</span></a>\n",
              "</pre>\n"
            ]
          },
          "metadata": {}
        },
        {
          "output_type": "stream",
          "name": "stderr",
          "text": [
            "Training Epochs:  98%|█████████▊| 49/50 [00:10<00:00,  5.10it/s]"
          ]
        },
        {
          "output_type": "display_data",
          "data": {
            "text/plain": [
              "\u001b[2;36m[17:46:11]\u001b[0m\u001b[2;36m \u001b[0m\u001b[1;36mEpoch \u001b[0m\u001b[1;36m50\u001b[0m - Loss: \u001b[1;36m0.4919\u001b[0m                                               \u001b]8;id=735132;file:///tmp/ipython-input-34-3564316065.py\u001b\\\u001b[2mipython-input-34-3564316065.py\u001b[0m\u001b]8;;\u001b\\\u001b[2m:\u001b[0m\u001b]8;id=316869;file:///tmp/ipython-input-34-3564316065.py#185\u001b\\\u001b[2m185\u001b[0m\u001b]8;;\u001b\\\n"
            ],
            "text/html": [
              "<pre style=\"white-space:pre;overflow-x:auto;line-height:normal;font-family:Menlo,'DejaVu Sans Mono',consolas,'Courier New',monospace\"><span style=\"color: #7fbfbf; text-decoration-color: #7fbfbf\">[17:46:11] </span><span style=\"color: #008080; text-decoration-color: #008080; font-weight: bold\">Epoch </span><span style=\"color: #008080; text-decoration-color: #008080; font-weight: bold\">50</span> - Loss: <span style=\"color: #008080; text-decoration-color: #008080; font-weight: bold\">0.4919</span>                                               <a href=\"file:///tmp/ipython-input-34-3564316065.py\" target=\"_blank\"><span style=\"color: #7f7f7f; text-decoration-color: #7f7f7f\">ipython-input-34-3564316065.py</span></a><span style=\"color: #7f7f7f; text-decoration-color: #7f7f7f\">:</span><a href=\"file:///tmp/ipython-input-34-3564316065.py#185\" target=\"_blank\"><span style=\"color: #7f7f7f; text-decoration-color: #7f7f7f\">185</span></a>\n",
              "</pre>\n"
            ]
          },
          "metadata": {}
        },
        {
          "output_type": "stream",
          "name": "stderr",
          "text": [
            "Training Epochs: 100%|██████████| 50/50 [00:10<00:00,  4.59it/s]\n"
          ]
        },
        {
          "output_type": "display_data",
          "data": {
            "text/plain": [
              "\u001b[3m                                                              \u001b[0m\n",
              "\u001b[3m                       Confusion Matrix                       \u001b[0m\n",
              "┏━━━━━━━━━━━━━━━━━━┳━━━━━━━━━━━━━━━━━━━┳━━━━━━━━━━━━━━━━━━━━━┓\n",
              "┃\u001b[1m \u001b[0m\u001b[1m                \u001b[0m\u001b[1m \u001b[0m┃\u001b[1m \u001b[0m\u001b[1mPredicted: Normal\u001b[0m\u001b[1m \u001b[0m┃\u001b[1m \u001b[0m\u001b[1mPredicted: Phishing\u001b[0m\u001b[1m \u001b[0m┃\n",
              "┡━━━━━━━━━━━━━━━━━━╇━━━━━━━━━━━━━━━━━━━╇━━━━━━━━━━━━━━━━━━━━━┩\n",
              "│\u001b[1;35m \u001b[0m\u001b[1;35mActual: Normal  \u001b[0m\u001b[1;35m \u001b[0m│       9339        │         20          │\n",
              "├──────────────────┼───────────────────┼─────────────────────┤\n",
              "│\u001b[1;35m \u001b[0m\u001b[1;35mActual: Phishing\u001b[0m\u001b[1;35m \u001b[0m│        125        │         108         │\n",
              "└──────────────────┴───────────────────┴─────────────────────┘\n"
            ],
            "text/html": [
              "<pre style=\"white-space:pre;overflow-x:auto;line-height:normal;font-family:Menlo,'DejaVu Sans Mono',consolas,'Courier New',monospace\"><span style=\"font-style: italic\">                                                              </span>\n",
              "<span style=\"font-style: italic\">                       Confusion Matrix                       </span>\n",
              "┏━━━━━━━━━━━━━━━━━━┳━━━━━━━━━━━━━━━━━━━┳━━━━━━━━━━━━━━━━━━━━━┓\n",
              "┃<span style=\"font-weight: bold\">                  </span>┃<span style=\"font-weight: bold\"> Predicted: Normal </span>┃<span style=\"font-weight: bold\"> Predicted: Phishing </span>┃\n",
              "┡━━━━━━━━━━━━━━━━━━╇━━━━━━━━━━━━━━━━━━━╇━━━━━━━━━━━━━━━━━━━━━┩\n",
              "│<span style=\"color: #800080; text-decoration-color: #800080; font-weight: bold\"> Actual: Normal   </span>│       9339        │         20          │\n",
              "├──────────────────┼───────────────────┼─────────────────────┤\n",
              "│<span style=\"color: #800080; text-decoration-color: #800080; font-weight: bold\"> Actual: Phishing </span>│        125        │         108         │\n",
              "└──────────────────┴───────────────────┴─────────────────────┘\n",
              "</pre>\n"
            ]
          },
          "metadata": {}
        },
        {
          "output_type": "display_data",
          "data": {
            "text/plain": [
              "\u001b[3m                                                          \u001b[0m\n",
              "\u001b[3m                  Classification Report                   \u001b[0m\n",
              "┏━━━━━━━━━━━━━━┳━━━━━━━━━━━┳━━━━━━━━┳━━━━━━━━━━┳━━━━━━━━━┓\n",
              "┃\u001b[1m \u001b[0m\u001b[1mClass       \u001b[0m\u001b[1m \u001b[0m┃\u001b[1m \u001b[0m\u001b[1mPrecision\u001b[0m\u001b[1m \u001b[0m┃\u001b[1m \u001b[0m\u001b[1mRecall\u001b[0m\u001b[1m \u001b[0m┃\u001b[1m \u001b[0m\u001b[1mF1-Score\u001b[0m\u001b[1m \u001b[0m┃\u001b[1m \u001b[0m\u001b[1mSupport\u001b[0m\u001b[1m \u001b[0m┃\n",
              "┡━━━━━━━━━━━━━━╇━━━━━━━━━━━╇━━━━━━━━╇━━━━━━━━━━╇━━━━━━━━━┩\n",
              "│\u001b[1;32m \u001b[0m\u001b[1;32mNormal      \u001b[0m\u001b[1;32m \u001b[0m│ 0.9868    │ 0.9979 │ 0.9923   │ 9359    │\n",
              "├──────────────┼───────────┼────────┼──────────┼─────────┤\n",
              "│\u001b[1;32m \u001b[0m\u001b[1;32mPhishing    \u001b[0m\u001b[1;32m \u001b[0m│ 0.8438    │ 0.4635 │ 0.5983   │ 233     │\n",
              "├──────────────┼───────────┼────────┼──────────┼─────────┤\n",
              "│\u001b[1;32m \u001b[0m\u001b[1;32maccuracy    \u001b[0m\u001b[1;32m \u001b[0m│ -         │ -      │ 0.9849   │ 9592    │\n",
              "├──────────────┼───────────┼────────┼──────────┼─────────┤\n",
              "│\u001b[1;32m \u001b[0m\u001b[1;32mmacro avg   \u001b[0m\u001b[1;32m \u001b[0m│ 0.9153    │ 0.7307 │ 0.7953   │ 9592    │\n",
              "├──────────────┼───────────┼────────┼──────────┼─────────┤\n",
              "│\u001b[1;32m \u001b[0m\u001b[1;32mweighted avg\u001b[0m\u001b[1;32m \u001b[0m│ 0.9833    │ 0.9849 │ 0.9827   │ 9592    │\n",
              "└──────────────┴───────────┴────────┴──────────┴─────────┘\n"
            ],
            "text/html": [
              "<pre style=\"white-space:pre;overflow-x:auto;line-height:normal;font-family:Menlo,'DejaVu Sans Mono',consolas,'Courier New',monospace\"><span style=\"font-style: italic\">                                                          </span>\n",
              "<span style=\"font-style: italic\">                  Classification Report                   </span>\n",
              "┏━━━━━━━━━━━━━━┳━━━━━━━━━━━┳━━━━━━━━┳━━━━━━━━━━┳━━━━━━━━━┓\n",
              "┃<span style=\"font-weight: bold\"> Class        </span>┃<span style=\"font-weight: bold\"> Precision </span>┃<span style=\"font-weight: bold\"> Recall </span>┃<span style=\"font-weight: bold\"> F1-Score </span>┃<span style=\"font-weight: bold\"> Support </span>┃\n",
              "┡━━━━━━━━━━━━━━╇━━━━━━━━━━━╇━━━━━━━━╇━━━━━━━━━━╇━━━━━━━━━┩\n",
              "│<span style=\"color: #008000; text-decoration-color: #008000; font-weight: bold\"> Normal       </span>│ 0.9868    │ 0.9979 │ 0.9923   │ 9359    │\n",
              "├──────────────┼───────────┼────────┼──────────┼─────────┤\n",
              "│<span style=\"color: #008000; text-decoration-color: #008000; font-weight: bold\"> Phishing     </span>│ 0.8438    │ 0.4635 │ 0.5983   │ 233     │\n",
              "├──────────────┼───────────┼────────┼──────────┼─────────┤\n",
              "│<span style=\"color: #008000; text-decoration-color: #008000; font-weight: bold\"> accuracy     </span>│ -         │ -      │ 0.9849   │ 9592    │\n",
              "├──────────────┼───────────┼────────┼──────────┼─────────┤\n",
              "│<span style=\"color: #008000; text-decoration-color: #008000; font-weight: bold\"> macro avg    </span>│ 0.9153    │ 0.7307 │ 0.7953   │ 9592    │\n",
              "├──────────────┼───────────┼────────┼──────────┼─────────┤\n",
              "│<span style=\"color: #008000; text-decoration-color: #008000; font-weight: bold\"> weighted avg </span>│ 0.9833    │ 0.9849 │ 0.9827   │ 9592    │\n",
              "└──────────────┴───────────┴────────┴──────────┴─────────┘\n",
              "</pre>\n"
            ]
          },
          "metadata": {}
        },
        {
          "output_type": "display_data",
          "data": {
            "text/plain": [
              "\n",
              "\n",
              "\u001b[1;32m✅ Test Summary:\u001b[0m\n"
            ],
            "text/html": [
              "<pre style=\"white-space:pre;overflow-x:auto;line-height:normal;font-family:Menlo,'DejaVu Sans Mono',consolas,'Courier New',monospace\">\n",
              "\n",
              "<span style=\"color: #008000; text-decoration-color: #008000; font-weight: bold\">✅ Test Summary:</span>\n",
              "</pre>\n"
            ]
          },
          "metadata": {}
        },
        {
          "output_type": "display_data",
          "data": {
            "text/plain": [
              "Total nodes in test data: \u001b[1;36m9592\u001b[0m\n"
            ],
            "text/html": [
              "<pre style=\"white-space:pre;overflow-x:auto;line-height:normal;font-family:Menlo,'DejaVu Sans Mono',consolas,'Courier New',monospace\">Total nodes in test data: <span style=\"color: #008080; text-decoration-color: #008080; font-weight: bold\">9592</span>\n",
              "</pre>\n"
            ]
          },
          "metadata": {}
        },
        {
          "output_type": "display_data",
          "data": {
            "text/plain": [
              "Total NORMAL nodes \u001b[1m(\u001b[0mtrue\u001b[1m)\u001b[0m: \u001b[1;36m9359\u001b[0m\n"
            ],
            "text/html": [
              "<pre style=\"white-space:pre;overflow-x:auto;line-height:normal;font-family:Menlo,'DejaVu Sans Mono',consolas,'Courier New',monospace\">Total NORMAL nodes <span style=\"font-weight: bold\">(</span>true<span style=\"font-weight: bold\">)</span>: <span style=\"color: #008080; text-decoration-color: #008080; font-weight: bold\">9359</span>\n",
              "</pre>\n"
            ]
          },
          "metadata": {}
        },
        {
          "output_type": "display_data",
          "data": {
            "text/plain": [
              "Total PHISHING nodes \u001b[1m(\u001b[0mtrue\u001b[1m)\u001b[0m: \u001b[1;36m233\u001b[0m\n"
            ],
            "text/html": [
              "<pre style=\"white-space:pre;overflow-x:auto;line-height:normal;font-family:Menlo,'DejaVu Sans Mono',consolas,'Courier New',monospace\">Total PHISHING nodes <span style=\"font-weight: bold\">(</span>true<span style=\"font-weight: bold\">)</span>: <span style=\"color: #008080; text-decoration-color: #008080; font-weight: bold\">233</span>\n",
              "</pre>\n"
            ]
          },
          "metadata": {}
        },
        {
          "output_type": "display_data",
          "data": {
            "text/plain": [
              "Normal correctly classified: \u001b[1;36m9339\u001b[0m \u001b[35m/\u001b[0m \u001b[1;36m9359\u001b[0m = \u001b[1;36m99.79\u001b[0m%\n"
            ],
            "text/html": [
              "<pre style=\"white-space:pre;overflow-x:auto;line-height:normal;font-family:Menlo,'DejaVu Sans Mono',consolas,'Courier New',monospace\">Normal correctly classified: <span style=\"color: #008080; text-decoration-color: #008080; font-weight: bold\">9339</span> <span style=\"color: #800080; text-decoration-color: #800080\">/</span> <span style=\"color: #008080; text-decoration-color: #008080; font-weight: bold\">9359</span> = <span style=\"color: #008080; text-decoration-color: #008080; font-weight: bold\">99.79</span>%\n",
              "</pre>\n"
            ]
          },
          "metadata": {}
        },
        {
          "output_type": "display_data",
          "data": {
            "text/plain": [
              "Phishing correctly classified: \u001b[1;36m108\u001b[0m \u001b[35m/\u001b[0m \u001b[1;36m233\u001b[0m = \u001b[1;36m46.35\u001b[0m%\n"
            ],
            "text/html": [
              "<pre style=\"white-space:pre;overflow-x:auto;line-height:normal;font-family:Menlo,'DejaVu Sans Mono',consolas,'Courier New',monospace\">Phishing correctly classified: <span style=\"color: #008080; text-decoration-color: #008080; font-weight: bold\">108</span> <span style=\"color: #800080; text-decoration-color: #800080\">/</span> <span style=\"color: #008080; text-decoration-color: #008080; font-weight: bold\">233</span> = <span style=\"color: #008080; text-decoration-color: #008080; font-weight: bold\">46.35</span>%\n",
              "</pre>\n"
            ]
          },
          "metadata": {}
        },
        {
          "output_type": "display_data",
          "data": {
            "text/plain": [
              "\n",
              "\n",
              "\u001b[1;33m🔗 Performance Comparison Table:\u001b[0m\n"
            ],
            "text/html": [
              "<pre style=\"white-space:pre;overflow-x:auto;line-height:normal;font-family:Menlo,'DejaVu Sans Mono',consolas,'Courier New',monospace\">\n",
              "\n",
              "<span style=\"color: #808000; text-decoration-color: #808000; font-weight: bold\">🔗 Performance Comparison Table:</span>\n",
              "</pre>\n"
            ]
          },
          "metadata": {}
        },
        {
          "output_type": "display_data",
          "data": {
            "text/plain": [
              "╒═════════════╤═════════════╤══════════╤════════════╕\n",
              "│ Method      │   Precision │   Recall │   F1-Score │\n",
              "╞═════════════╪═════════════╪══════════╪════════════╡\n",
              "│ Node2vec    │        \u001b[1;36m0.62\u001b[0m │     \u001b[1;36m0.65\u001b[0m │       \u001b[1;36m0.63\u001b[0m │\n",
              "├─────────────┼─────────────┼──────────┼────────────┤\n",
              "│ WL-kernel   │        \u001b[1;36m0.63\u001b[0m │     \u001b[1;36m0.67\u001b[0m │       \u001b[1;36m0.65\u001b[0m │\n",
              "├─────────────┼─────────────┼──────────┼────────────┤\n",
              "│ GCN         │        \u001b[1;36m0.52\u001b[0m │     \u001b[1;36m0.55\u001b[0m │       \u001b[1;36m0.53\u001b[0m │\n",
              "├─────────────┼─────────────┼──────────┼────────────┤\n",
              "│ Graph2vec   │        \u001b[1;36m0.7\u001b[0m  │     \u001b[1;36m0.75\u001b[0m │       \u001b[1;36m0.73\u001b[0m │\n",
              "├─────────────┼─────────────┼──────────┼────────────┤\n",
              "│ TGAT        │        \u001b[1;36m0.3\u001b[0m  │     \u001b[1;36m0.4\u001b[0m  │       \u001b[1;36m0.35\u001b[0m │\n",
              "├─────────────┼─────────────┼──────────┼────────────┤\n",
              "│ TGN         │        \u001b[1;36m0.55\u001b[0m │     \u001b[1;36m0.6\u001b[0m  │       \u001b[1;36m0.57\u001b[0m │\n",
              "├─────────────┼─────────────┼──────────┼────────────┤\n",
              "│ EvolveGCN   │        \u001b[1;36m0.68\u001b[0m │     \u001b[1;36m0.7\u001b[0m  │       \u001b[1;36m0.69\u001b[0m │\n",
              "├─────────────┼─────────────┼──────────┼────────────┤\n",
              "│ GrabPhisher │        \u001b[1;36m0.84\u001b[0m │     \u001b[1;36m0.46\u001b[0m │       \u001b[1;36m0.6\u001b[0m  │\n",
              "╘═════════════╧═════════════╧══════════╧════════════╛\n"
            ],
            "text/html": [
              "<pre style=\"white-space:pre;overflow-x:auto;line-height:normal;font-family:Menlo,'DejaVu Sans Mono',consolas,'Courier New',monospace\">╒═════════════╤═════════════╤══════════╤════════════╕\n",
              "│ Method      │   Precision │   Recall │   F1-Score │\n",
              "╞═════════════╪═════════════╪══════════╪════════════╡\n",
              "│ Node2vec    │        <span style=\"color: #008080; text-decoration-color: #008080; font-weight: bold\">0.62</span> │     <span style=\"color: #008080; text-decoration-color: #008080; font-weight: bold\">0.65</span> │       <span style=\"color: #008080; text-decoration-color: #008080; font-weight: bold\">0.63</span> │\n",
              "├─────────────┼─────────────┼──────────┼────────────┤\n",
              "│ WL-kernel   │        <span style=\"color: #008080; text-decoration-color: #008080; font-weight: bold\">0.63</span> │     <span style=\"color: #008080; text-decoration-color: #008080; font-weight: bold\">0.67</span> │       <span style=\"color: #008080; text-decoration-color: #008080; font-weight: bold\">0.65</span> │\n",
              "├─────────────┼─────────────┼──────────┼────────────┤\n",
              "│ GCN         │        <span style=\"color: #008080; text-decoration-color: #008080; font-weight: bold\">0.52</span> │     <span style=\"color: #008080; text-decoration-color: #008080; font-weight: bold\">0.55</span> │       <span style=\"color: #008080; text-decoration-color: #008080; font-weight: bold\">0.53</span> │\n",
              "├─────────────┼─────────────┼──────────┼────────────┤\n",
              "│ Graph2vec   │        <span style=\"color: #008080; text-decoration-color: #008080; font-weight: bold\">0.7</span>  │     <span style=\"color: #008080; text-decoration-color: #008080; font-weight: bold\">0.75</span> │       <span style=\"color: #008080; text-decoration-color: #008080; font-weight: bold\">0.73</span> │\n",
              "├─────────────┼─────────────┼──────────┼────────────┤\n",
              "│ TGAT        │        <span style=\"color: #008080; text-decoration-color: #008080; font-weight: bold\">0.3</span>  │     <span style=\"color: #008080; text-decoration-color: #008080; font-weight: bold\">0.4</span>  │       <span style=\"color: #008080; text-decoration-color: #008080; font-weight: bold\">0.35</span> │\n",
              "├─────────────┼─────────────┼──────────┼────────────┤\n",
              "│ TGN         │        <span style=\"color: #008080; text-decoration-color: #008080; font-weight: bold\">0.55</span> │     <span style=\"color: #008080; text-decoration-color: #008080; font-weight: bold\">0.6</span>  │       <span style=\"color: #008080; text-decoration-color: #008080; font-weight: bold\">0.57</span> │\n",
              "├─────────────┼─────────────┼──────────┼────────────┤\n",
              "│ EvolveGCN   │        <span style=\"color: #008080; text-decoration-color: #008080; font-weight: bold\">0.68</span> │     <span style=\"color: #008080; text-decoration-color: #008080; font-weight: bold\">0.7</span>  │       <span style=\"color: #008080; text-decoration-color: #008080; font-weight: bold\">0.69</span> │\n",
              "├─────────────┼─────────────┼──────────┼────────────┤\n",
              "│ GrabPhisher │        <span style=\"color: #008080; text-decoration-color: #008080; font-weight: bold\">0.84</span> │     <span style=\"color: #008080; text-decoration-color: #008080; font-weight: bold\">0.46</span> │       <span style=\"color: #008080; text-decoration-color: #008080; font-weight: bold\">0.6</span>  │\n",
              "╘═════════════╧═════════════╧══════════╧════════════╛\n",
              "</pre>\n"
            ]
          },
          "metadata": {}
        }
      ]
    }
  ]
}